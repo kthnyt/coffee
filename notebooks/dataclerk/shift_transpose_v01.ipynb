{
 "cells": [
  {
   "cell_type": "code",
   "execution_count": 11,
   "metadata": {},
   "outputs": [],
   "source": [
    "import os\n",
    "import time\n",
    "\n",
    "import numpy as np\n",
    "import pandas as pd"
   ]
  },
  {
   "cell_type": "code",
   "execution_count": 6,
   "metadata": {},
   "outputs": [
    {
     "data": {
      "text/plain": [
       "['SCATS_MARCH2020.csv']"
      ]
     },
     "execution_count": 6,
     "metadata": {},
     "output_type": "execute_result"
    }
   ],
   "source": [
    "fns = [fn for fn in os.listdir() if '.csv' in fn]\n",
    "fns"
   ]
  },
  {
   "cell_type": "code",
   "execution_count": 35,
   "metadata": {},
   "outputs": [
    {
     "data": {
      "text/html": [
       "<div>\n",
       "<style scoped>\n",
       "    .dataframe tbody tr th:only-of-type {\n",
       "        vertical-align: middle;\n",
       "    }\n",
       "\n",
       "    .dataframe tbody tr th {\n",
       "        vertical-align: top;\n",
       "    }\n",
       "\n",
       "    .dataframe thead th {\n",
       "        text-align: right;\n",
       "    }\n",
       "</style>\n",
       "<table border=\"1\" class=\"dataframe\">\n",
       "  <thead>\n",
       "    <tr style=\"text-align: right;\">\n",
       "      <th></th>\n",
       "      <th>M1_DS_VOL</th>\n",
       "      <th>M1_DS_T</th>\n",
       "      <th>M1_DS_GPT</th>\n",
       "      <th>M1_NS_VOL</th>\n",
       "      <th>M1_NS_T</th>\n",
       "      <th>M1_NS_GPT</th>\n",
       "      <th>M3_DS_VOL</th>\n",
       "      <th>M3_DS_T</th>\n",
       "      <th>M3_DS_GPT</th>\n",
       "      <th>M3_NS_VOL</th>\n",
       "      <th>M3_NS_T</th>\n",
       "      <th>M3_NS_GPT</th>\n",
       "    </tr>\n",
       "    <tr>\n",
       "      <th>Milling Date</th>\n",
       "      <th></th>\n",
       "      <th></th>\n",
       "      <th></th>\n",
       "      <th></th>\n",
       "      <th></th>\n",
       "      <th></th>\n",
       "      <th></th>\n",
       "      <th></th>\n",
       "      <th></th>\n",
       "      <th></th>\n",
       "      <th></th>\n",
       "      <th></th>\n",
       "    </tr>\n",
       "  </thead>\n",
       "  <tbody>\n",
       "    <tr>\n",
       "      <th>3/1/2020</th>\n",
       "      <td>1.6</td>\n",
       "      <td>2.704</td>\n",
       "      <td>0.73</td>\n",
       "      <td>14.7</td>\n",
       "      <td>24.843</td>\n",
       "      <td>1.46</td>\n",
       "      <td>6.0</td>\n",
       "      <td>10.140</td>\n",
       "      <td>1.02</td>\n",
       "      <td>12.70</td>\n",
       "      <td>21.4630</td>\n",
       "      <td>0.70</td>\n",
       "    </tr>\n",
       "    <tr>\n",
       "      <th>3/2/2020</th>\n",
       "      <td>4.3</td>\n",
       "      <td>7.267</td>\n",
       "      <td>0.71</td>\n",
       "      <td>7.9</td>\n",
       "      <td>13.351</td>\n",
       "      <td>0.74</td>\n",
       "      <td>21.0</td>\n",
       "      <td>35.490</td>\n",
       "      <td>0.83</td>\n",
       "      <td>16.90</td>\n",
       "      <td>28.5610</td>\n",
       "      <td>1.17</td>\n",
       "    </tr>\n",
       "    <tr>\n",
       "      <th>3/3/2020</th>\n",
       "      <td>0.0</td>\n",
       "      <td>0.000</td>\n",
       "      <td>0.82</td>\n",
       "      <td>8.9</td>\n",
       "      <td>15.041</td>\n",
       "      <td>0.00</td>\n",
       "      <td>17.0</td>\n",
       "      <td>28.730</td>\n",
       "      <td>1.39</td>\n",
       "      <td>0.36</td>\n",
       "      <td>0.6084</td>\n",
       "      <td>0.44</td>\n",
       "    </tr>\n",
       "    <tr>\n",
       "      <th>3/4/2020</th>\n",
       "      <td>0.0</td>\n",
       "      <td>0.000</td>\n",
       "      <td>0.00</td>\n",
       "      <td>3.0</td>\n",
       "      <td>5.070</td>\n",
       "      <td>0.64</td>\n",
       "      <td>7.1</td>\n",
       "      <td>11.999</td>\n",
       "      <td>0.36</td>\n",
       "      <td>2.70</td>\n",
       "      <td>4.5630</td>\n",
       "      <td>0.62</td>\n",
       "    </tr>\n",
       "    <tr>\n",
       "      <th>3/5/2020</th>\n",
       "      <td>1.6</td>\n",
       "      <td>2.704</td>\n",
       "      <td>0.53</td>\n",
       "      <td>2.3</td>\n",
       "      <td>3.887</td>\n",
       "      <td>0.94</td>\n",
       "      <td>12.3</td>\n",
       "      <td>20.787</td>\n",
       "      <td>0.55</td>\n",
       "      <td>0.00</td>\n",
       "      <td>0.0000</td>\n",
       "      <td>0.00</td>\n",
       "    </tr>\n",
       "  </tbody>\n",
       "</table>\n",
       "</div>"
      ],
      "text/plain": [
       "              M1_DS_VOL  M1_DS_T  M1_DS_GPT  M1_NS_VOL  M1_NS_T  M1_NS_GPT  \\\n",
       "Milling Date                                                                 \n",
       "3/1/2020            1.6    2.704       0.73       14.7   24.843       1.46   \n",
       "3/2/2020            4.3    7.267       0.71        7.9   13.351       0.74   \n",
       "3/3/2020            0.0    0.000       0.82        8.9   15.041       0.00   \n",
       "3/4/2020            0.0    0.000       0.00        3.0    5.070       0.64   \n",
       "3/5/2020            1.6    2.704       0.53        2.3    3.887       0.94   \n",
       "\n",
       "              M3_DS_VOL  M3_DS_T  M3_DS_GPT  M3_NS_VOL  M3_NS_T  M3_NS_GPT  \n",
       "Milling Date                                                                \n",
       "3/1/2020            6.0   10.140       1.02      12.70  21.4630       0.70  \n",
       "3/2/2020           21.0   35.490       0.83      16.90  28.5610       1.17  \n",
       "3/3/2020           17.0   28.730       1.39       0.36   0.6084       0.44  \n",
       "3/4/2020            7.1   11.999       0.36       2.70   4.5630       0.62  \n",
       "3/5/2020           12.3   20.787       0.55       0.00   0.0000       0.00  "
      ]
     },
     "execution_count": 35,
     "metadata": {},
     "output_type": "execute_result"
    }
   ],
   "source": [
    "df = pd.read_csv(fns[0], index_col='Milling Date')\n",
    "df = df.fillna(0)\n",
    "df.head()"
   ]
  },
  {
   "cell_type": "code",
   "execution_count": 65,
   "metadata": {},
   "outputs": [],
   "source": [
    "shift = 'DS_'\n",
    "df_day =  df.loc[:, df.columns.str.contains(shift)]\n",
    "df_day.columns = df_day.columns.str.replace(shift, '')\n",
    "df_day.index = pd.to_datetime([date + ' 06:00' for date in df_day.index])\n",
    "\n",
    "shift = 'NS_'\n",
    "df_night =  df.loc[:, df.columns.str.contains(shift)]\n",
    "df_night.columns = df_night.columns.str.replace(shift, '')\n",
    "df_night.index = pd.to_datetime([date + ' 18:00' for date in df_night.index])"
   ]
  },
  {
   "cell_type": "code",
   "execution_count": 68,
   "metadata": {},
   "outputs": [],
   "source": [
    "# df_day = df_day.reset_index().copy()\n",
    "# df_night = df_night.reset_index().copy()\n",
    "\n",
    "concat_df = pd.concat([df_day,df_night]).sort_index().transpose()"
   ]
  },
  {
   "cell_type": "code",
   "execution_count": 70,
   "metadata": {},
   "outputs": [],
   "source": [
    "concat_df.to_csv('scats_vol_ton_gpt.csv', float_format='%g')"
   ]
  },
  {
   "cell_type": "code",
   "execution_count": null,
   "metadata": {},
   "outputs": [],
   "source": []
  }
 ],
 "metadata": {
  "kernelspec": {
   "display_name": "Python 3",
   "language": "python",
   "name": "python3"
  },
  "language_info": {
   "codemirror_mode": {
    "name": "ipython",
    "version": 3
   },
   "file_extension": ".py",
   "mimetype": "text/x-python",
   "name": "python",
   "nbconvert_exporter": "python",
   "pygments_lexer": "ipython3",
   "version": "3.7.6"
  }
 },
 "nbformat": 4,
 "nbformat_minor": 4
}
