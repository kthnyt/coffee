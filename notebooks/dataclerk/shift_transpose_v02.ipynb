{
 "cells": [
  {
   "cell_type": "code",
   "execution_count": 1,
   "metadata": {},
   "outputs": [],
   "source": [
    "import os\n",
    "import time\n",
    "\n",
    "import numpy as np\n",
    "import pandas as pd"
   ]
  },
  {
   "cell_type": "code",
   "execution_count": 2,
   "metadata": {},
   "outputs": [
    {
     "data": {
      "text/plain": [
       "['metacc_crs_wgh_wt_TRANSPOSED.csv',\n",
       " 'scats_vol_ton_gpt.csv',\n",
       " 'metacc_crs_wgh_wt.csv',\n",
       " 'SCATS_MARCH2020.csv',\n",
       " 'RD-LS-MA-Crushing-May-2020 - Crushing.csv']"
      ]
     },
     "execution_count": 2,
     "metadata": {},
     "output_type": "execute_result"
    }
   ],
   "source": [
    "fns = [fn for fn in os.listdir() if '.csv' in fn]\n",
    "fns"
   ]
  },
  {
   "cell_type": "code",
   "execution_count": 4,
   "metadata": {},
   "outputs": [
    {
     "data": {
      "text/html": [
       "<div>\n",
       "<style scoped>\n",
       "    .dataframe tbody tr th:only-of-type {\n",
       "        vertical-align: middle;\n",
       "    }\n",
       "\n",
       "    .dataframe tbody tr th {\n",
       "        vertical-align: top;\n",
       "    }\n",
       "\n",
       "    .dataframe thead th {\n",
       "        text-align: right;\n",
       "    }\n",
       "</style>\n",
       "<table border=\"1\" class=\"dataframe\">\n",
       "  <thead>\n",
       "    <tr style=\"text-align: right;\">\n",
       "      <th></th>\n",
       "      <th>PP_CRS_MOI_FD_PER_DS</th>\n",
       "      <th>PP_CRS_MOI_FD_PER_NS</th>\n",
       "      <th>PP_CRS_RUN_TIME_HR_DS</th>\n",
       "      <th>PP_CRS_RUN_TIME_HR_NS</th>\n",
       "      <th>PP_DR_CRS_TC_WT_DS</th>\n",
       "      <th>PP_DR_CRS_TC_WT_NS</th>\n",
       "      <th>PP_CRS_GR_GPT_DS</th>\n",
       "      <th>PP_CRS_GR_GPT_NS</th>\n",
       "    </tr>\n",
       "    <tr>\n",
       "      <th>Date</th>\n",
       "      <th></th>\n",
       "      <th></th>\n",
       "      <th></th>\n",
       "      <th></th>\n",
       "      <th></th>\n",
       "      <th></th>\n",
       "      <th></th>\n",
       "      <th></th>\n",
       "    </tr>\n",
       "  </thead>\n",
       "  <tbody>\n",
       "    <tr>\n",
       "      <th>2020-05-01</th>\n",
       "      <td>3.66</td>\n",
       "      <td>3.66</td>\n",
       "      <td>7.94</td>\n",
       "      <td>9.12</td>\n",
       "      <td>749</td>\n",
       "      <td>900</td>\n",
       "      <td>2.70</td>\n",
       "      <td>2.11</td>\n",
       "    </tr>\n",
       "    <tr>\n",
       "      <th>2020-05-02</th>\n",
       "      <td>3.95</td>\n",
       "      <td>3.95</td>\n",
       "      <td>7.89</td>\n",
       "      <td>9.06</td>\n",
       "      <td>655</td>\n",
       "      <td>900</td>\n",
       "      <td>1.71</td>\n",
       "      <td>1.90</td>\n",
       "    </tr>\n",
       "    <tr>\n",
       "      <th>2020-05-03</th>\n",
       "      <td>3.13</td>\n",
       "      <td>3.13</td>\n",
       "      <td>10.43</td>\n",
       "      <td>7.57</td>\n",
       "      <td>776</td>\n",
       "      <td>563</td>\n",
       "      <td>1.55</td>\n",
       "      <td>1.73</td>\n",
       "    </tr>\n",
       "    <tr>\n",
       "      <th>2020-05-04</th>\n",
       "      <td>4.62</td>\n",
       "      <td>4.62</td>\n",
       "      <td>9.64</td>\n",
       "      <td>8.79</td>\n",
       "      <td>698</td>\n",
       "      <td>652</td>\n",
       "      <td>0.97</td>\n",
       "      <td>1.13</td>\n",
       "    </tr>\n",
       "    <tr>\n",
       "      <th>2020-05-05</th>\n",
       "      <td>1.37</td>\n",
       "      <td>1.37</td>\n",
       "      <td>3.75</td>\n",
       "      <td>4.54</td>\n",
       "      <td>358</td>\n",
       "      <td>415</td>\n",
       "      <td>1.76</td>\n",
       "      <td>1.60</td>\n",
       "    </tr>\n",
       "  </tbody>\n",
       "</table>\n",
       "</div>"
      ],
      "text/plain": [
       "            PP_CRS_MOI_FD_PER_DS  PP_CRS_MOI_FD_PER_NS  PP_CRS_RUN_TIME_HR_DS  \\\n",
       "Date                                                                            \n",
       "2020-05-01                  3.66                  3.66                   7.94   \n",
       "2020-05-02                  3.95                  3.95                   7.89   \n",
       "2020-05-03                  3.13                  3.13                  10.43   \n",
       "2020-05-04                  4.62                  4.62                   9.64   \n",
       "2020-05-05                  1.37                  1.37                   3.75   \n",
       "\n",
       "            PP_CRS_RUN_TIME_HR_NS   PP_DR_CRS_TC_WT_DS   PP_DR_CRS_TC_WT_NS   \\\n",
       "Date                                                                           \n",
       "2020-05-01                   9.12                   749                 900    \n",
       "2020-05-02                   9.06                   655                 900    \n",
       "2020-05-03                   7.57                   776                 563    \n",
       "2020-05-04                   8.79                   698                 652    \n",
       "2020-05-05                   4.54                   358                 415    \n",
       "\n",
       "            PP_CRS_GR_GPT_DS  PP_CRS_GR_GPT_NS  \n",
       "Date                                            \n",
       "2020-05-01              2.70              2.11  \n",
       "2020-05-02              1.71              1.90  \n",
       "2020-05-03              1.55              1.73  \n",
       "2020-05-04              0.97              1.13  \n",
       "2020-05-05              1.76              1.60  "
      ]
     },
     "execution_count": 4,
     "metadata": {},
     "output_type": "execute_result"
    }
   ],
   "source": [
    "df = pd.read_csv(fns[-1], index_col='Date')\n",
    "df = df.fillna(0)\n",
    "df.head()"
   ]
  },
  {
   "cell_type": "code",
   "execution_count": 5,
   "metadata": {},
   "outputs": [],
   "source": [
    "shift = '_DS'\n",
    "df_day =  df.loc[:, df.columns.str.contains(shift)]\n",
    "df_day.columns = df_day.columns.str.replace(shift, '')\n",
    "df_day.index = pd.to_datetime([date + ' 06:00' for date in df_day.index])\n",
    "\n",
    "shift = '_NS'\n",
    "df_night =  df.loc[:, df.columns.str.contains(shift)]\n",
    "df_night.columns = df_night.columns.str.replace(shift, '')\n",
    "df_night.index = pd.to_datetime([date + ' 18:00' for date in df_night.index])"
   ]
  },
  {
   "cell_type": "code",
   "execution_count": 6,
   "metadata": {},
   "outputs": [],
   "source": [
    "# df_day = df_day.reset_index().copy()\n",
    "# df_night = df_night.reset_index().copy()\n",
    "\n",
    "concat_df = pd.concat([df_day,df_night]).sort_index().transpose()"
   ]
  },
  {
   "cell_type": "code",
   "execution_count": 7,
   "metadata": {},
   "outputs": [],
   "source": [
    "concat_df.to_csv('RD-LS-MA-Crushing-May-2020 - Crushing-TRANSPOSED.csv', float_format='%g')"
   ]
  },
  {
   "cell_type": "markdown",
   "metadata": {},
   "source": [
    "### CRS WGH T"
   ]
  },
  {
   "cell_type": "code",
   "execution_count": 4,
   "metadata": {},
   "outputs": [
    {
     "data": {
      "text/plain": [
       "'metacc_crs_wgh_wt.csv'"
      ]
     },
     "execution_count": 4,
     "metadata": {},
     "output_type": "execute_result"
    }
   ],
   "source": [
    "fns[1]"
   ]
  },
  {
   "cell_type": "code",
   "execution_count": 11,
   "metadata": {},
   "outputs": [
    {
     "data": {
      "text/html": [
       "<div>\n",
       "<style scoped>\n",
       "    .dataframe tbody tr th:only-of-type {\n",
       "        vertical-align: middle;\n",
       "    }\n",
       "\n",
       "    .dataframe tbody tr th {\n",
       "        vertical-align: top;\n",
       "    }\n",
       "\n",
       "    .dataframe thead th {\n",
       "        text-align: right;\n",
       "    }\n",
       "</style>\n",
       "<table border=\"1\" class=\"dataframe\">\n",
       "  <thead>\n",
       "    <tr style=\"text-align: right;\">\n",
       "      <th></th>\n",
       "      <th>PP_CRS_WGT_WT_DS</th>\n",
       "      <th>PP_CRS_WGT_WT_NS</th>\n",
       "    </tr>\n",
       "    <tr>\n",
       "      <th>Date</th>\n",
       "      <th></th>\n",
       "      <th></th>\n",
       "    </tr>\n",
       "  </thead>\n",
       "  <tbody>\n",
       "    <tr>\n",
       "      <th>2020-06-01</th>\n",
       "      <td>794</td>\n",
       "      <td>787</td>\n",
       "    </tr>\n",
       "    <tr>\n",
       "      <th>2020-06-02</th>\n",
       "      <td>649</td>\n",
       "      <td>417</td>\n",
       "    </tr>\n",
       "    <tr>\n",
       "      <th>2020-06-03</th>\n",
       "      <td>138</td>\n",
       "      <td>428</td>\n",
       "    </tr>\n",
       "    <tr>\n",
       "      <th>2020-06-04</th>\n",
       "      <td>798</td>\n",
       "      <td>889</td>\n",
       "    </tr>\n",
       "    <tr>\n",
       "      <th>2020-06-05</th>\n",
       "      <td>547</td>\n",
       "      <td>701</td>\n",
       "    </tr>\n",
       "  </tbody>\n",
       "</table>\n",
       "</div>"
      ],
      "text/plain": [
       "             PP_CRS_WGT_WT_DS    PP_CRS_WGT_WT_NS \n",
       "Date                                              \n",
       "2020-06-01                 794                 787\n",
       "2020-06-02                 649                 417\n",
       "2020-06-03                 138                 428\n",
       "2020-06-04                 798                 889\n",
       "2020-06-05                 547                 701"
      ]
     },
     "execution_count": 11,
     "metadata": {},
     "output_type": "execute_result"
    }
   ],
   "source": [
    "df = pd.read_csv(fns[1], index_col='Date', parse_dates=['Date'])\n",
    "df = df.fillna(0)\n",
    "df.head()"
   ]
  },
  {
   "cell_type": "code",
   "execution_count": 22,
   "metadata": {},
   "outputs": [],
   "source": [
    "shift = '_DS'\n",
    "df_day =  df.loc[:, df.columns.str.contains(shift)]\n",
    "df_day.columns = df_day.columns.str.replace(shift, '')\n",
    "df_day.index = pd.to_datetime([str(date) + ' 06:00' for date in df_day.index])\n",
    "\n",
    "shift = '_NS'\n",
    "df_night =  df.loc[:, df.columns.str.contains(shift)]\n",
    "df_night.columns = df_night.columns.str.replace(shift, '')\n",
    "df_night.index = pd.to_datetime([str(date) + ' 18:00' for date in df_night.index])"
   ]
  },
  {
   "cell_type": "code",
   "execution_count": 23,
   "metadata": {},
   "outputs": [],
   "source": [
    "# df_day = df_day.reset_index().copy()\n",
    "# df_night = df_night.reset_index().copy()\n",
    "\n",
    "concat_df = pd.concat([df_day,df_night]).sort_index().transpose()"
   ]
  },
  {
   "cell_type": "code",
   "execution_count": 24,
   "metadata": {},
   "outputs": [],
   "source": [
    "concat_df.to_csv('metacc_crs_wgh_wt_TRANSPOSED.csv', float_format='%g')"
   ]
  },
  {
   "cell_type": "code",
   "execution_count": 25,
   "metadata": {},
   "outputs": [
    {
     "data": {
      "text/html": [
       "<div>\n",
       "<style scoped>\n",
       "    .dataframe tbody tr th:only-of-type {\n",
       "        vertical-align: middle;\n",
       "    }\n",
       "\n",
       "    .dataframe tbody tr th {\n",
       "        vertical-align: top;\n",
       "    }\n",
       "\n",
       "    .dataframe thead th {\n",
       "        text-align: right;\n",
       "    }\n",
       "</style>\n",
       "<table border=\"1\" class=\"dataframe\">\n",
       "  <thead>\n",
       "    <tr style=\"text-align: right;\">\n",
       "      <th></th>\n",
       "      <th>2020-06-01 06:00:00</th>\n",
       "      <th>2020-06-01 18:00:00</th>\n",
       "      <th>2020-06-02 06:00:00</th>\n",
       "      <th>2020-06-02 18:00:00</th>\n",
       "      <th>2020-06-03 06:00:00</th>\n",
       "      <th>2020-06-03 18:00:00</th>\n",
       "      <th>2020-06-04 06:00:00</th>\n",
       "      <th>2020-06-04 18:00:00</th>\n",
       "      <th>2020-06-05 06:00:00</th>\n",
       "      <th>2020-06-05 18:00:00</th>\n",
       "      <th>...</th>\n",
       "      <th>2020-06-26 06:00:00</th>\n",
       "      <th>2020-06-26 18:00:00</th>\n",
       "      <th>2020-06-27 06:00:00</th>\n",
       "      <th>2020-06-27 18:00:00</th>\n",
       "      <th>2020-06-28 06:00:00</th>\n",
       "      <th>2020-06-28 18:00:00</th>\n",
       "      <th>2020-06-29 06:00:00</th>\n",
       "      <th>2020-06-29 18:00:00</th>\n",
       "      <th>2020-06-30 06:00:00</th>\n",
       "      <th>2020-06-30 18:00:00</th>\n",
       "    </tr>\n",
       "  </thead>\n",
       "  <tbody>\n",
       "    <tr>\n",
       "      <th>PP_CRS_WGT_WT</th>\n",
       "      <td>794</td>\n",
       "      <td>787</td>\n",
       "      <td>649</td>\n",
       "      <td>417</td>\n",
       "      <td>138</td>\n",
       "      <td>428</td>\n",
       "      <td>798</td>\n",
       "      <td>889</td>\n",
       "      <td>547</td>\n",
       "      <td>701</td>\n",
       "      <td>...</td>\n",
       "      <td>599</td>\n",
       "      <td>701</td>\n",
       "      <td>713</td>\n",
       "      <td>630</td>\n",
       "      <td>724</td>\n",
       "      <td>690</td>\n",
       "      <td>839</td>\n",
       "      <td>743</td>\n",
       "      <td>680</td>\n",
       "      <td>1285</td>\n",
       "    </tr>\n",
       "  </tbody>\n",
       "</table>\n",
       "<p>1 rows × 60 columns</p>\n",
       "</div>"
      ],
      "text/plain": [
       "                 2020-06-01 06:00:00  2020-06-01 18:00:00  \\\n",
       " PP_CRS_WGT_WT                   794                  787   \n",
       "\n",
       "                 2020-06-02 06:00:00  2020-06-02 18:00:00  \\\n",
       " PP_CRS_WGT_WT                   649                  417   \n",
       "\n",
       "                 2020-06-03 06:00:00  2020-06-03 18:00:00  \\\n",
       " PP_CRS_WGT_WT                   138                  428   \n",
       "\n",
       "                 2020-06-04 06:00:00  2020-06-04 18:00:00  \\\n",
       " PP_CRS_WGT_WT                   798                  889   \n",
       "\n",
       "                 2020-06-05 06:00:00  2020-06-05 18:00:00  ...  \\\n",
       " PP_CRS_WGT_WT                   547                  701  ...   \n",
       "\n",
       "                 2020-06-26 06:00:00  2020-06-26 18:00:00  \\\n",
       " PP_CRS_WGT_WT                   599                  701   \n",
       "\n",
       "                 2020-06-27 06:00:00  2020-06-27 18:00:00  \\\n",
       " PP_CRS_WGT_WT                   713                  630   \n",
       "\n",
       "                 2020-06-28 06:00:00  2020-06-28 18:00:00  \\\n",
       " PP_CRS_WGT_WT                   724                  690   \n",
       "\n",
       "                 2020-06-29 06:00:00  2020-06-29 18:00:00  \\\n",
       " PP_CRS_WGT_WT                   839                  743   \n",
       "\n",
       "                 2020-06-30 06:00:00  2020-06-30 18:00:00  \n",
       " PP_CRS_WGT_WT                   680                 1285  \n",
       "\n",
       "[1 rows x 60 columns]"
      ]
     },
     "execution_count": 25,
     "metadata": {},
     "output_type": "execute_result"
    }
   ],
   "source": [
    "concat_df"
   ]
  },
  {
   "cell_type": "code",
   "execution_count": 21,
   "metadata": {},
   "outputs": [
    {
     "data": {
      "text/plain": [
       "array([False, False])"
      ]
     },
     "execution_count": 21,
     "metadata": {},
     "output_type": "execute_result"
    }
   ],
   "source": [
    "shift = 'DS_'\n",
    "df.columns.str.contains(shift)\n",
    "# df.loc[:, df.columns.str.contains(shift)]"
   ]
  },
  {
   "cell_type": "code",
   "execution_count": null,
   "metadata": {},
   "outputs": [],
   "source": []
  }
 ],
 "metadata": {
  "kernelspec": {
   "display_name": "Python 3",
   "language": "python",
   "name": "python3"
  },
  "language_info": {
   "codemirror_mode": {
    "name": "ipython",
    "version": 3
   },
   "file_extension": ".py",
   "mimetype": "text/x-python",
   "name": "python",
   "nbconvert_exporter": "python",
   "pygments_lexer": "ipython3",
   "version": "3.7.6"
  }
 },
 "nbformat": 4,
 "nbformat_minor": 4
}
